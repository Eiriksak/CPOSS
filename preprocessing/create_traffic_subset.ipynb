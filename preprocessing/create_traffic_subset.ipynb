{
 "cells": [
  {
   "cell_type": "markdown",
   "metadata": {},
   "source": [
    "## Creating subset for traffic crashes and traffic tracker"
   ]
  },
  {
   "cell_type": "markdown",
   "metadata": {},
   "source": [
    "### Creating subset for crashes in district 11"
   ]
  },
  {
   "cell_type": "code",
   "execution_count": 1,
   "metadata": {},
   "outputs": [],
   "source": [
    "import pandas as pd"
   ]
  },
  {
   "cell_type": "code",
   "execution_count": 3,
   "metadata": {},
   "outputs": [],
   "source": [
    "df = pd.read_csv(\"../data/traffic_crashes.csv\")"
   ]
  },
  {
   "cell_type": "code",
   "execution_count": 27,
   "metadata": {},
   "outputs": [],
   "source": [
    "a = df[\"LONGITUDE\"].value_counts().index.tolist()"
   ]
  },
  {
   "cell_type": "code",
   "execution_count": 31,
   "metadata": {},
   "outputs": [],
   "source": [
    "for l in a:\n",
    "    if l < -88:\n",
    "        print(l)"
   ]
  },
  {
   "cell_type": "code",
   "execution_count": 6,
   "metadata": {},
   "outputs": [
    {
     "data": {
      "text/plain": [
       "Index(['RD_NO', 'CRASH_DATE_EST_I', 'CRASH_DATE', 'POSTED_SPEED_LIMIT',\n",
       "       'TRAFFIC_CONTROL_DEVICE', 'DEVICE_CONDITION', 'WEATHER_CONDITION',\n",
       "       'LIGHTING_CONDITION', 'FIRST_CRASH_TYPE', 'TRAFFICWAY_TYPE', 'LANE_CNT',\n",
       "       'ALIGNMENT', 'ROADWAY_SURFACE_COND', 'ROAD_DEFECT', 'REPORT_TYPE',\n",
       "       'CRASH_TYPE', 'INTERSECTION_RELATED_I', 'NOT_RIGHT_OF_WAY_I',\n",
       "       'HIT_AND_RUN_I', 'DAMAGE', 'DATE_POLICE_NOTIFIED',\n",
       "       'PRIM_CONTRIBUTORY_CAUSE', 'SEC_CONTRIBUTORY_CAUSE', 'STREET_NO',\n",
       "       'STREET_DIRECTION', 'STREET_NAME', 'BEAT_OF_OCCURRENCE',\n",
       "       'PHOTOS_TAKEN_I', 'STATEMENTS_TAKEN_I', 'DOORING_I', 'WORK_ZONE_I',\n",
       "       'WORK_ZONE_TYPE', 'WORKERS_PRESENT_I', 'NUM_UNITS',\n",
       "       'MOST_SEVERE_INJURY', 'INJURIES_TOTAL', 'INJURIES_FATAL',\n",
       "       'INJURIES_INCAPACITATING', 'INJURIES_NON_INCAPACITATING',\n",
       "       'INJURIES_REPORTED_NOT_EVIDENT', 'INJURIES_NO_INDICATION',\n",
       "       'INJURIES_UNKNOWN', 'CRASH_HOUR', 'CRASH_DAY_OF_WEEK', 'CRASH_MONTH',\n",
       "       'LATITUDE', 'LONGITUDE', 'LOCATION'],\n",
       "      dtype='object')"
      ]
     },
     "execution_count": 6,
     "metadata": {},
     "output_type": "execute_result"
    }
   ],
   "source": [
    "df.columns"
   ]
  },
  {
   "cell_type": "code",
   "execution_count": 6,
   "metadata": {},
   "outputs": [],
   "source": [
    "# Selecting the accidents that happened within the coordinates of district 11\n",
    "\n",
    "#xmin = -87.7463\n",
    "#xmax = -87.6855\n",
    "#ymin = 41.8656\n",
    "#ymax = 41.9027\n",
    "\n",
    "dfX = df[df[\"LONGITUDE\"] > -87.7463]\n",
    "dfX = dfX[dfX[\"LONGITUDE\"] < -87.6855]"
   ]
  },
  {
   "cell_type": "code",
   "execution_count": 7,
   "metadata": {},
   "outputs": [],
   "source": [
    "dfY = dfX[dfX[\"LATITUDE\"] > 41.8656]\n",
    "dfY = dfY[dfY[\"LATITUDE\"] < 41.9027]"
   ]
  },
  {
   "cell_type": "code",
   "execution_count": 8,
   "metadata": {},
   "outputs": [
    {
     "data": {
      "text/html": [
       "<div>\n",
       "<style scoped>\n",
       "    .dataframe tbody tr th:only-of-type {\n",
       "        vertical-align: middle;\n",
       "    }\n",
       "\n",
       "    .dataframe tbody tr th {\n",
       "        vertical-align: top;\n",
       "    }\n",
       "\n",
       "    .dataframe thead th {\n",
       "        text-align: right;\n",
       "    }\n",
       "</style>\n",
       "<table border=\"1\" class=\"dataframe\">\n",
       "  <thead>\n",
       "    <tr style=\"text-align: right;\">\n",
       "      <th></th>\n",
       "      <th>RD_NO</th>\n",
       "      <th>CRASH_DATE_EST_I</th>\n",
       "      <th>CRASH_DATE</th>\n",
       "      <th>POSTED_SPEED_LIMIT</th>\n",
       "      <th>TRAFFIC_CONTROL_DEVICE</th>\n",
       "      <th>DEVICE_CONDITION</th>\n",
       "      <th>WEATHER_CONDITION</th>\n",
       "      <th>LIGHTING_CONDITION</th>\n",
       "      <th>FIRST_CRASH_TYPE</th>\n",
       "      <th>TRAFFICWAY_TYPE</th>\n",
       "      <th>...</th>\n",
       "      <th>INJURIES_NON_INCAPACITATING</th>\n",
       "      <th>INJURIES_REPORTED_NOT_EVIDENT</th>\n",
       "      <th>INJURIES_NO_INDICATION</th>\n",
       "      <th>INJURIES_UNKNOWN</th>\n",
       "      <th>CRASH_HOUR</th>\n",
       "      <th>CRASH_DAY_OF_WEEK</th>\n",
       "      <th>CRASH_MONTH</th>\n",
       "      <th>LATITUDE</th>\n",
       "      <th>LONGITUDE</th>\n",
       "      <th>LOCATION</th>\n",
       "    </tr>\n",
       "  </thead>\n",
       "  <tbody>\n",
       "    <tr>\n",
       "      <th>4</th>\n",
       "      <td>JC415604</td>\n",
       "      <td>NaN</td>\n",
       "      <td>09/01/2019 01:00:00 AM</td>\n",
       "      <td>30</td>\n",
       "      <td>NO CONTROLS</td>\n",
       "      <td>NO CONTROLS</td>\n",
       "      <td>RAIN</td>\n",
       "      <td>DARKNESS, LIGHTED ROAD</td>\n",
       "      <td>PARKED MOTOR VEHICLE</td>\n",
       "      <td>NOT DIVIDED</td>\n",
       "      <td>...</td>\n",
       "      <td>0.0</td>\n",
       "      <td>0.0</td>\n",
       "      <td>1.0</td>\n",
       "      <td>0.0</td>\n",
       "      <td>1</td>\n",
       "      <td>1</td>\n",
       "      <td>9</td>\n",
       "      <td>41.878205</td>\n",
       "      <td>-87.740781</td>\n",
       "      <td>POINT (-87.740780714023 41.87820508902)</td>\n",
       "    </tr>\n",
       "    <tr>\n",
       "      <th>39</th>\n",
       "      <td>JC419405</td>\n",
       "      <td>NaN</td>\n",
       "      <td>09/04/2019 07:15:00 AM</td>\n",
       "      <td>30</td>\n",
       "      <td>TRAFFIC SIGNAL</td>\n",
       "      <td>FUNCTIONING PROPERLY</td>\n",
       "      <td>CLEAR</td>\n",
       "      <td>DAYLIGHT</td>\n",
       "      <td>SIDESWIPE SAME DIRECTION</td>\n",
       "      <td>NOT DIVIDED</td>\n",
       "      <td>...</td>\n",
       "      <td>0.0</td>\n",
       "      <td>0.0</td>\n",
       "      <td>2.0</td>\n",
       "      <td>0.0</td>\n",
       "      <td>7</td>\n",
       "      <td>4</td>\n",
       "      <td>9</td>\n",
       "      <td>41.866501</td>\n",
       "      <td>-87.686158</td>\n",
       "      <td>POINT (-87.686157599021 41.866501191036)</td>\n",
       "    </tr>\n",
       "    <tr>\n",
       "      <th>54</th>\n",
       "      <td>JC422840</td>\n",
       "      <td>NaN</td>\n",
       "      <td>09/06/2019 04:15:00 PM</td>\n",
       "      <td>30</td>\n",
       "      <td>TRAFFIC SIGNAL</td>\n",
       "      <td>FUNCTIONING PROPERLY</td>\n",
       "      <td>CLEAR</td>\n",
       "      <td>DAYLIGHT</td>\n",
       "      <td>TURNING</td>\n",
       "      <td>NOT DIVIDED</td>\n",
       "      <td>...</td>\n",
       "      <td>0.0</td>\n",
       "      <td>0.0</td>\n",
       "      <td>2.0</td>\n",
       "      <td>0.0</td>\n",
       "      <td>16</td>\n",
       "      <td>6</td>\n",
       "      <td>9</td>\n",
       "      <td>41.895527</td>\n",
       "      <td>-87.699098</td>\n",
       "      <td>POINT (-87.699098182975 41.895527077955)</td>\n",
       "    </tr>\n",
       "    <tr>\n",
       "      <th>79</th>\n",
       "      <td>JC558328</td>\n",
       "      <td>Y</td>\n",
       "      <td>12/23/2019 10:28:00 PM</td>\n",
       "      <td>30</td>\n",
       "      <td>UNKNOWN</td>\n",
       "      <td>UNKNOWN</td>\n",
       "      <td>CLEAR</td>\n",
       "      <td>DARKNESS</td>\n",
       "      <td>SIDESWIPE SAME DIRECTION</td>\n",
       "      <td>NOT DIVIDED</td>\n",
       "      <td>...</td>\n",
       "      <td>0.0</td>\n",
       "      <td>0.0</td>\n",
       "      <td>3.0</td>\n",
       "      <td>0.0</td>\n",
       "      <td>22</td>\n",
       "      <td>2</td>\n",
       "      <td>12</td>\n",
       "      <td>41.895784</td>\n",
       "      <td>-87.721353</td>\n",
       "      <td>POINT (-87.72135274599 41.895784448963)</td>\n",
       "    </tr>\n",
       "    <tr>\n",
       "      <th>80</th>\n",
       "      <td>JC561370</td>\n",
       "      <td>NaN</td>\n",
       "      <td>12/26/2019 11:10:00 PM</td>\n",
       "      <td>35</td>\n",
       "      <td>TRAFFIC SIGNAL</td>\n",
       "      <td>FUNCTIONING PROPERLY</td>\n",
       "      <td>CLEAR</td>\n",
       "      <td>DARKNESS, LIGHTED ROAD</td>\n",
       "      <td>REAR END</td>\n",
       "      <td>NOT DIVIDED</td>\n",
       "      <td>...</td>\n",
       "      <td>0.0</td>\n",
       "      <td>0.0</td>\n",
       "      <td>2.0</td>\n",
       "      <td>0.0</td>\n",
       "      <td>23</td>\n",
       "      <td>5</td>\n",
       "      <td>12</td>\n",
       "      <td>41.876927</td>\n",
       "      <td>-87.745039</td>\n",
       "      <td>POINT (-87.745039137038 41.876926588953)</td>\n",
       "    </tr>\n",
       "    <tr>\n",
       "      <th>...</th>\n",
       "      <td>...</td>\n",
       "      <td>...</td>\n",
       "      <td>...</td>\n",
       "      <td>...</td>\n",
       "      <td>...</td>\n",
       "      <td>...</td>\n",
       "      <td>...</td>\n",
       "      <td>...</td>\n",
       "      <td>...</td>\n",
       "      <td>...</td>\n",
       "      <td>...</td>\n",
       "      <td>...</td>\n",
       "      <td>...</td>\n",
       "      <td>...</td>\n",
       "      <td>...</td>\n",
       "      <td>...</td>\n",
       "      <td>...</td>\n",
       "      <td>...</td>\n",
       "      <td>...</td>\n",
       "      <td>...</td>\n",
       "      <td>...</td>\n",
       "    </tr>\n",
       "    <tr>\n",
       "      <th>383128</th>\n",
       "      <td>JD140967</td>\n",
       "      <td>NaN</td>\n",
       "      <td>02/05/2020 01:22:00 PM</td>\n",
       "      <td>30</td>\n",
       "      <td>NO CONTROLS</td>\n",
       "      <td>NO CONTROLS</td>\n",
       "      <td>CLEAR</td>\n",
       "      <td>DAYLIGHT</td>\n",
       "      <td>FIXED OBJECT</td>\n",
       "      <td>DRIVEWAY</td>\n",
       "      <td>...</td>\n",
       "      <td>0.0</td>\n",
       "      <td>0.0</td>\n",
       "      <td>1.0</td>\n",
       "      <td>0.0</td>\n",
       "      <td>13</td>\n",
       "      <td>4</td>\n",
       "      <td>2</td>\n",
       "      <td>41.883250</td>\n",
       "      <td>-87.725883</td>\n",
       "      <td>POINT (-87.725883150221 41.883250391164)</td>\n",
       "    </tr>\n",
       "    <tr>\n",
       "      <th>383160</th>\n",
       "      <td>JD141347</td>\n",
       "      <td>NaN</td>\n",
       "      <td>02/05/2020 05:35:00 PM</td>\n",
       "      <td>30</td>\n",
       "      <td>TRAFFIC SIGNAL</td>\n",
       "      <td>FUNCTIONING PROPERLY</td>\n",
       "      <td>SNOW</td>\n",
       "      <td>DARKNESS, LIGHTED ROAD</td>\n",
       "      <td>REAR END</td>\n",
       "      <td>DIVIDED - W/MEDIAN BARRIER</td>\n",
       "      <td>...</td>\n",
       "      <td>0.0</td>\n",
       "      <td>0.0</td>\n",
       "      <td>2.0</td>\n",
       "      <td>0.0</td>\n",
       "      <td>17</td>\n",
       "      <td>4</td>\n",
       "      <td>2</td>\n",
       "      <td>41.868755</td>\n",
       "      <td>-87.685950</td>\n",
       "      <td>POINT (-87.685950229244 41.86875519769)</td>\n",
       "    </tr>\n",
       "    <tr>\n",
       "      <th>383168</th>\n",
       "      <td>JD140810</td>\n",
       "      <td>NaN</td>\n",
       "      <td>02/05/2020 11:53:00 AM</td>\n",
       "      <td>30</td>\n",
       "      <td>TRAFFIC SIGNAL</td>\n",
       "      <td>FUNCTIONING PROPERLY</td>\n",
       "      <td>CLEAR</td>\n",
       "      <td>DAYLIGHT</td>\n",
       "      <td>ANGLE</td>\n",
       "      <td>DIVIDED - W/MEDIAN (NOT RAISED)</td>\n",
       "      <td>...</td>\n",
       "      <td>1.0</td>\n",
       "      <td>0.0</td>\n",
       "      <td>0.0</td>\n",
       "      <td>0.0</td>\n",
       "      <td>11</td>\n",
       "      <td>4</td>\n",
       "      <td>2</td>\n",
       "      <td>41.885318</td>\n",
       "      <td>-87.720987</td>\n",
       "      <td>POINT (-87.720986852264 41.885318235642)</td>\n",
       "    </tr>\n",
       "    <tr>\n",
       "      <th>383174</th>\n",
       "      <td>JD141374</td>\n",
       "      <td>NaN</td>\n",
       "      <td>02/05/2020 05:30:00 PM</td>\n",
       "      <td>30</td>\n",
       "      <td>NO CONTROLS</td>\n",
       "      <td>NO CONTROLS</td>\n",
       "      <td>SNOW</td>\n",
       "      <td>DARKNESS, LIGHTED ROAD</td>\n",
       "      <td>REAR END</td>\n",
       "      <td>NOT DIVIDED</td>\n",
       "      <td>...</td>\n",
       "      <td>0.0</td>\n",
       "      <td>0.0</td>\n",
       "      <td>2.0</td>\n",
       "      <td>0.0</td>\n",
       "      <td>17</td>\n",
       "      <td>4</td>\n",
       "      <td>2</td>\n",
       "      <td>41.895519</td>\n",
       "      <td>-87.725939</td>\n",
       "      <td>POINT (-87.725938783945 41.895519038617)</td>\n",
       "    </tr>\n",
       "    <tr>\n",
       "      <th>383175</th>\n",
       "      <td>JD141149</td>\n",
       "      <td>NaN</td>\n",
       "      <td>02/05/2020 04:09:00 PM</td>\n",
       "      <td>30</td>\n",
       "      <td>NO CONTROLS</td>\n",
       "      <td>NO CONTROLS</td>\n",
       "      <td>SNOW</td>\n",
       "      <td>DAYLIGHT</td>\n",
       "      <td>PEDESTRIAN</td>\n",
       "      <td>DIVIDED - W/MEDIAN BARRIER</td>\n",
       "      <td>...</td>\n",
       "      <td>0.0</td>\n",
       "      <td>0.0</td>\n",
       "      <td>1.0</td>\n",
       "      <td>0.0</td>\n",
       "      <td>16</td>\n",
       "      <td>4</td>\n",
       "      <td>2</td>\n",
       "      <td>41.898816</td>\n",
       "      <td>-87.731847</td>\n",
       "      <td>POINT (-87.731846732557 41.898815752761)</td>\n",
       "    </tr>\n",
       "  </tbody>\n",
       "</table>\n",
       "<p>21562 rows × 48 columns</p>\n",
       "</div>"
      ],
      "text/plain": [
       "           RD_NO CRASH_DATE_EST_I              CRASH_DATE  POSTED_SPEED_LIMIT  \\\n",
       "4       JC415604              NaN  09/01/2019 01:00:00 AM                  30   \n",
       "39      JC419405              NaN  09/04/2019 07:15:00 AM                  30   \n",
       "54      JC422840              NaN  09/06/2019 04:15:00 PM                  30   \n",
       "79      JC558328                Y  12/23/2019 10:28:00 PM                  30   \n",
       "80      JC561370              NaN  12/26/2019 11:10:00 PM                  35   \n",
       "...          ...              ...                     ...                 ...   \n",
       "383128  JD140967              NaN  02/05/2020 01:22:00 PM                  30   \n",
       "383160  JD141347              NaN  02/05/2020 05:35:00 PM                  30   \n",
       "383168  JD140810              NaN  02/05/2020 11:53:00 AM                  30   \n",
       "383174  JD141374              NaN  02/05/2020 05:30:00 PM                  30   \n",
       "383175  JD141149              NaN  02/05/2020 04:09:00 PM                  30   \n",
       "\n",
       "       TRAFFIC_CONTROL_DEVICE      DEVICE_CONDITION WEATHER_CONDITION  \\\n",
       "4                 NO CONTROLS           NO CONTROLS              RAIN   \n",
       "39             TRAFFIC SIGNAL  FUNCTIONING PROPERLY             CLEAR   \n",
       "54             TRAFFIC SIGNAL  FUNCTIONING PROPERLY             CLEAR   \n",
       "79                    UNKNOWN               UNKNOWN             CLEAR   \n",
       "80             TRAFFIC SIGNAL  FUNCTIONING PROPERLY             CLEAR   \n",
       "...                       ...                   ...               ...   \n",
       "383128            NO CONTROLS           NO CONTROLS             CLEAR   \n",
       "383160         TRAFFIC SIGNAL  FUNCTIONING PROPERLY              SNOW   \n",
       "383168         TRAFFIC SIGNAL  FUNCTIONING PROPERLY             CLEAR   \n",
       "383174            NO CONTROLS           NO CONTROLS              SNOW   \n",
       "383175            NO CONTROLS           NO CONTROLS              SNOW   \n",
       "\n",
       "            LIGHTING_CONDITION          FIRST_CRASH_TYPE  \\\n",
       "4       DARKNESS, LIGHTED ROAD      PARKED MOTOR VEHICLE   \n",
       "39                    DAYLIGHT  SIDESWIPE SAME DIRECTION   \n",
       "54                    DAYLIGHT                   TURNING   \n",
       "79                    DARKNESS  SIDESWIPE SAME DIRECTION   \n",
       "80      DARKNESS, LIGHTED ROAD                  REAR END   \n",
       "...                        ...                       ...   \n",
       "383128                DAYLIGHT              FIXED OBJECT   \n",
       "383160  DARKNESS, LIGHTED ROAD                  REAR END   \n",
       "383168                DAYLIGHT                     ANGLE   \n",
       "383174  DARKNESS, LIGHTED ROAD                  REAR END   \n",
       "383175                DAYLIGHT                PEDESTRIAN   \n",
       "\n",
       "                        TRAFFICWAY_TYPE  ...  INJURIES_NON_INCAPACITATING  \\\n",
       "4                           NOT DIVIDED  ...                          0.0   \n",
       "39                          NOT DIVIDED  ...                          0.0   \n",
       "54                          NOT DIVIDED  ...                          0.0   \n",
       "79                          NOT DIVIDED  ...                          0.0   \n",
       "80                          NOT DIVIDED  ...                          0.0   \n",
       "...                                 ...  ...                          ...   \n",
       "383128                         DRIVEWAY  ...                          0.0   \n",
       "383160       DIVIDED - W/MEDIAN BARRIER  ...                          0.0   \n",
       "383168  DIVIDED - W/MEDIAN (NOT RAISED)  ...                          1.0   \n",
       "383174                      NOT DIVIDED  ...                          0.0   \n",
       "383175       DIVIDED - W/MEDIAN BARRIER  ...                          0.0   \n",
       "\n",
       "       INJURIES_REPORTED_NOT_EVIDENT INJURIES_NO_INDICATION INJURIES_UNKNOWN  \\\n",
       "4                                0.0                    1.0              0.0   \n",
       "39                               0.0                    2.0              0.0   \n",
       "54                               0.0                    2.0              0.0   \n",
       "79                               0.0                    3.0              0.0   \n",
       "80                               0.0                    2.0              0.0   \n",
       "...                              ...                    ...              ...   \n",
       "383128                           0.0                    1.0              0.0   \n",
       "383160                           0.0                    2.0              0.0   \n",
       "383168                           0.0                    0.0              0.0   \n",
       "383174                           0.0                    2.0              0.0   \n",
       "383175                           0.0                    1.0              0.0   \n",
       "\n",
       "       CRASH_HOUR CRASH_DAY_OF_WEEK CRASH_MONTH   LATITUDE  LONGITUDE  \\\n",
       "4               1                 1           9  41.878205 -87.740781   \n",
       "39              7                 4           9  41.866501 -87.686158   \n",
       "54             16                 6           9  41.895527 -87.699098   \n",
       "79             22                 2          12  41.895784 -87.721353   \n",
       "80             23                 5          12  41.876927 -87.745039   \n",
       "...           ...               ...         ...        ...        ...   \n",
       "383128         13                 4           2  41.883250 -87.725883   \n",
       "383160         17                 4           2  41.868755 -87.685950   \n",
       "383168         11                 4           2  41.885318 -87.720987   \n",
       "383174         17                 4           2  41.895519 -87.725939   \n",
       "383175         16                 4           2  41.898816 -87.731847   \n",
       "\n",
       "                                        LOCATION  \n",
       "4        POINT (-87.740780714023 41.87820508902)  \n",
       "39      POINT (-87.686157599021 41.866501191036)  \n",
       "54      POINT (-87.699098182975 41.895527077955)  \n",
       "79       POINT (-87.72135274599 41.895784448963)  \n",
       "80      POINT (-87.745039137038 41.876926588953)  \n",
       "...                                          ...  \n",
       "383128  POINT (-87.725883150221 41.883250391164)  \n",
       "383160   POINT (-87.685950229244 41.86875519769)  \n",
       "383168  POINT (-87.720986852264 41.885318235642)  \n",
       "383174  POINT (-87.725938783945 41.895519038617)  \n",
       "383175  POINT (-87.731846732557 41.898815752761)  \n",
       "\n",
       "[21562 rows x 48 columns]"
      ]
     },
     "execution_count": 8,
     "metadata": {},
     "output_type": "execute_result"
    }
   ],
   "source": [
    "dfY"
   ]
  },
  {
   "cell_type": "code",
   "execution_count": 9,
   "metadata": {},
   "outputs": [],
   "source": [
    "dfY.to_csv(\"../data/crashes_d11.csv\")"
   ]
  },
  {
   "cell_type": "markdown",
   "metadata": {},
   "source": [
    "### Creating subset for segment 1309 in traffic tracker"
   ]
  },
  {
   "cell_type": "code",
   "execution_count": 2,
   "metadata": {},
   "outputs": [],
   "source": [
    "df = pd.read_csv(\"../data/traffic_tracker.csv\")"
   ]
  },
  {
   "cell_type": "code",
   "execution_count": 3,
   "metadata": {},
   "outputs": [
    {
     "data": {
      "text/plain": [
       "1309    18709\n",
       "360     18709\n",
       "374     18709\n",
       "373     18709\n",
       "372     18709\n",
       "        ...  \n",
       "1195       99\n",
       "1275       99\n",
       "523        99\n",
       "1046       99\n",
       "524        99\n",
       "Name: SEGMENTID, Length: 1071, dtype: int64"
      ]
     },
     "execution_count": 3,
     "metadata": {},
     "output_type": "execute_result"
    }
   ],
   "source": [
    "df[\"SEGMENTID\"].value_counts()"
   ]
  },
  {
   "cell_type": "code",
   "execution_count": 4,
   "metadata": {},
   "outputs": [],
   "source": [
    "df1 = df.loc[df[\"SEGMENTID\"] == 1309]\n",
    "df1 = df1.loc[df1[\"SPEED\"] != -1]"
   ]
  },
  {
   "cell_type": "code",
   "execution_count": 5,
   "metadata": {},
   "outputs": [
    {
     "data": {
      "text/plain": [
       "(9877, 5)"
      ]
     },
     "execution_count": 5,
     "metadata": {},
     "output_type": "execute_result"
    }
   ],
   "source": [
    "df1.shape"
   ]
  },
  {
   "cell_type": "code",
   "execution_count": 6,
   "metadata": {},
   "outputs": [],
   "source": [
    "df1.to_csv(\"../data/tracker1309.csv\")"
   ]
  },
  {
   "cell_type": "markdown",
   "metadata": {},
   "source": [
    "### Removing -1 values (missing values) from the original set"
   ]
  },
  {
   "cell_type": "code",
   "execution_count": 2,
   "metadata": {},
   "outputs": [],
   "source": [
    "df = pd.read_csv(\"../data/traffic_tracker.csv\")"
   ]
  },
  {
   "cell_type": "code",
   "execution_count": 3,
   "metadata": {},
   "outputs": [],
   "source": [
    "df = df.loc[df[\"SPEED\"] != -1]"
   ]
  },
  {
   "cell_type": "code",
   "execution_count": 4,
   "metadata": {},
   "outputs": [],
   "source": [
    "df.to_csv(\"../data/traffic_cleaned.csv\")"
   ]
  },
  {
   "cell_type": "code",
   "execution_count": 11,
   "metadata": {},
   "outputs": [
    {
     "data": {
      "text/plain": [
       "(11922509, 5)"
      ]
     },
     "execution_count": 11,
     "metadata": {},
     "output_type": "execute_result"
    }
   ],
   "source": [
    "df.shape"
   ]
  }
 ],
 "metadata": {
  "kernelspec": {
   "display_name": "Python 3",
   "language": "python",
   "name": "python3"
  },
  "language_info": {
   "codemirror_mode": {
    "name": "ipython",
    "version": 3
   },
   "file_extension": ".py",
   "mimetype": "text/x-python",
   "name": "python",
   "nbconvert_exporter": "python",
   "pygments_lexer": "ipython3",
   "version": "3.7.6"
  }
 },
 "nbformat": 4,
 "nbformat_minor": 4
}
